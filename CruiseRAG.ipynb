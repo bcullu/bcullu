{
  "nbformat": 4,
  "nbformat_minor": 0,
  "metadata": {
    "colab": {
      "provenance": [],
      "authorship_tag": "ABX9TyNFmw6aRfj5dpTOTqVNiyO0",
      "include_colab_link": true
    },
    "kernelspec": {
      "name": "python3",
      "display_name": "Python 3"
    },
    "language_info": {
      "name": "python"
    }
  },
  "cells": [
    {
      "cell_type": "markdown",
      "metadata": {
        "id": "view-in-github",
        "colab_type": "text"
      },
      "source": [
        "<a href=\"https://colab.research.google.com/github/bcullu/bcullu/blob/main/CruiseRAG.ipynb\" target=\"_parent\"><img src=\"https://colab.research.google.com/assets/colab-badge.svg\" alt=\"Open In Colab\"/></a>"
      ]
    },
    {
      "cell_type": "code",
      "execution_count": null,
      "metadata": {
        "id": "ppbi2MRA-o71"
      },
      "outputs": [],
      "source": [
        "import streamlit as st\n",
        "from htmlTemplates import css, bot_template, user_template\n",
        "import pandas as pd\n",
        "from langchain.text_splitter import CharacterTextSplitter\n",
        "from langchain.memory import ConversationBufferMemory\n",
        "from langchain.chains import ConversationalRetrievalChain\n",
        "from langchain_community.vectorstores import FAISS\n",
        "from langchain_community.chat_models import ChatOpenAI\n",
        "from langchain_community.embeddings import OpenAIEmbeddings, HuggingFaceInstructEmbeddings\n",
        "#from langchain_openai import ChatOpenAI\n",
        "from pyngrok import ngrok\n",
        "import openai\n",
        "from dotenv import load_dotenv\n",
        "import os\n",
        "\n",
        "\n",
        "\n",
        "df = pd.read_pickle(\"your_data_set_path\")\n",
        "\n",
        "def get_data(ship_name):\n",
        "  filtered_reviews = df[df['ShipName'] == str(ship_name)]\n",
        "  raw_text = '\\n\\n'.join(filtered_reviews['r_Review'])\n",
        "  return raw_text\n",
        "\n",
        "\n",
        "def get_text_chunks(raw_text):\n",
        "    text_splitter = CharacterTextSplitter(\n",
        "        separator=\"\\n\\n\",\n",
        "        chunk_size=1000,\n",
        "        chunk_overlap=200,\n",
        "        length_function=len\n",
        "    )\n",
        "    chunks = text_splitter.split_text(raw_text)\n",
        "    return chunks\n",
        "\n",
        "#@st.cache_data() #hash_funcs={FAISS: lambda _: None}\n",
        "def initialize_vectorstore(chunks, force_refresh=False):\n",
        "    # Initialize or refresh the vectorstore in the session state\n",
        "    if 'vectorstore' not in st.session_state or force_refresh:\n",
        "        print(\"Creating new vectorstore...\")\n",
        "        embeddings = OpenAIEmbeddings(openai_api_key='xxx')\n",
        "        vectorstore = FAISS.from_texts(texts=chunks, embedding=embeddings)\n",
        "        st.session_state['vectorstore'] = vectorstore\n",
        "    else:\n",
        "        print(\"Using cached vectorstore\")\n",
        "\n",
        "def get_conversation_chain(vectorstore):\n",
        "    llm = ChatOpenAI(openai_api_key = 'xxx')\n",
        "    memory = ConversationBufferMemory(\n",
        "        memory_key='chat_history', return_messages=True)\n",
        "    conversation_chain = ConversationalRetrievalChain.from_llm(\n",
        "        llm=llm,\n",
        "        retriever=vectorstore.as_retriever(),\n",
        "        memory=memory\n",
        "    )\n",
        "    return conversation_chain\n",
        "\n",
        "\n",
        "\n",
        "def handle_userinput(user_question):\n",
        "    response = st.session_state.conversation({'question': user_question})\n",
        "    st.session_state.chat_history = response['chat_history']\n",
        "    for i, message in enumerate(st.session_state.chat_history):\n",
        "        if i % 2 == 0:\n",
        "            st.write(user_template.replace(\n",
        "                \"{{MSG}}\", message.content), unsafe_allow_html=True)\n",
        "        else:\n",
        "            st.write(bot_template.replace(\n",
        "                \"{{MSG}}\", message.content), unsafe_allow_html=True)\n",
        "\n",
        "def main():\n",
        "    load_dotenv()\n",
        "    st.set_page_config(page_title=\"Chat with Cruise Passengers\", page_icon=\":ship:\")\n",
        "    st.write(css, unsafe_allow_html=True)\n",
        "    # Ensure basic structure is present in session state\n",
        "    if 'conversation' not in st.session_state:\n",
        "        st.session_state['conversation'] = None\n",
        "    if 'chat_history' not in st.session_state:\n",
        "        st.session_state['chat_history'] = None\n",
        "    if 'vectorstore' not in st.session_state:\n",
        "        st.session_state['vectorstore'] = None  # Explicit initialization\n",
        "\n",
        "    st.header(\"Chat with Cruise Passengers :ship:\")\n",
        "    ship_name = st.text_input(\"Enter the ship name:\")\n",
        "\n",
        "    if ship_name and ship_name.strip() and ship_name in df['ShipName'].unique():\n",
        "        # Check if ship name has changed or vectorstore needs initialization\n",
        "        if 'current_ship' not in st.session_state or st.session_state['current_ship'] != ship_name or st.session_state['vectorstore'] is None:\n",
        "            raw_text = get_data(ship_name)\n",
        "            text_chunks = get_text_chunks(raw_text)\n",
        "            initialize_vectorstore(text_chunks, force_refresh=True)\n",
        "            st.session_state['current_ship'] = ship_name\n",
        "\n",
        "        user_question = st.text_input(\"Ask a question to passengers:\", key=\"user_question\")\n",
        "\n",
        "        if user_question:\n",
        "            # Initialize conversation chain if needed\n",
        "            if st.session_state['conversation'] is None:\n",
        "                st.session_state['conversation'] = get_conversation_chain(st.session_state['vectorstore'])\n",
        "\n",
        "            handle_userinput(user_question)\n",
        "    else:\n",
        "        if ship_name:  # Invalid ship name entered\n",
        "            st.error(\"Please enter a valid ship name.\")\n",
        "\n",
        "if __name__ == '__main__':\n",
        "    main()\n"
      ]
    },
    {
      "cell_type": "markdown",
      "source": [
        "Thanks to https://github.com/alejandro-ao/langchain-ask-pdf\n",
        "\n"
      ],
      "metadata": {
        "id": "DGC0cW73_gPJ"
      }
    }
  ]
}